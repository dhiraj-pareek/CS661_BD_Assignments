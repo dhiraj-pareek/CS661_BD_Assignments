{
 "cells": [
  {
   "cell_type": "code",
   "execution_count": 1,
   "metadata": {
    "colab": {
     "base_uri": "https://localhost:8080/"
    },
    "id": "_djSwgwCnsJs",
    "outputId": "9a5e36ad-473a-4fa1-cdb4-23ebb9bc6023"
   },
   "outputs": [
    {
     "name": "stdout",
     "output_type": "stream",
     "text": [
      "Requirement already satisfied: vtk in c:\\programdata\\anaconda3\\lib\\site-packages (9.3.0)\n",
      "Requirement already satisfied: matplotlib>=2.0.0 in c:\\programdata\\anaconda3\\lib\\site-packages (from vtk) (3.3.4)\n",
      "Requirement already satisfied: pillow>=6.2.0 in c:\\programdata\\anaconda3\\lib\\site-packages (from matplotlib>=2.0.0->vtk) (8.2.0)\n",
      "Requirement already satisfied: kiwisolver>=1.0.1 in c:\\programdata\\anaconda3\\lib\\site-packages (from matplotlib>=2.0.0->vtk) (1.3.1)\n",
      "Requirement already satisfied: cycler>=0.10 in c:\\programdata\\anaconda3\\lib\\site-packages (from matplotlib>=2.0.0->vtk) (0.10.0)\n",
      "Requirement already satisfied: numpy>=1.15 in c:\\programdata\\anaconda3\\lib\\site-packages (from matplotlib>=2.0.0->vtk) (1.20.1)\n",
      "Requirement already satisfied: pyparsing!=2.0.4,!=2.1.2,!=2.1.6,>=2.0.3 in c:\\programdata\\anaconda3\\lib\\site-packages (from matplotlib>=2.0.0->vtk) (2.4.7)\n",
      "Requirement already satisfied: python-dateutil>=2.1 in c:\\programdata\\anaconda3\\lib\\site-packages (from matplotlib>=2.0.0->vtk) (2.8.1)\n",
      "Requirement already satisfied: six in c:\\programdata\\anaconda3\\lib\\site-packages (from cycler>=0.10->matplotlib>=2.0.0->vtk) (1.15.0)\n",
      "Requirement already satisfied: plotly in c:\\programdata\\anaconda3\\lib\\site-packages (5.19.0)\n",
      "Requirement already satisfied: tenacity>=6.2.0 in c:\\programdata\\anaconda3\\lib\\site-packages (from plotly) (8.2.2)\n",
      "Requirement already satisfied: packaging in c:\\programdata\\anaconda3\\lib\\site-packages (from plotly) (20.9)\n",
      "Requirement already satisfied: pyparsing>=2.0.2 in c:\\programdata\\anaconda3\\lib\\site-packages (from packaging->plotly) (2.4.7)\n"
     ]
    }
   ],
   "source": [
    "!pip install vtk\n",
    "!pip install plotly"
   ]
  },
  {
   "cell_type": "code",
   "execution_count": 2,
   "metadata": {
    "id": "OizKYzromTgr"
   },
   "outputs": [],
   "source": [
    "import numpy as np\n",
    "import plotly.graph_objects as go\n",
    "import ipywidgets as widgets\n",
    "from IPython.display import display\n",
    "import vtk\n"
   ]
  },
  {
   "cell_type": "markdown",
   "metadata": {
    "id": "GwfzUBKYn9Jm"
   },
   "source": [
    "# Load the provided 3D dataset"
   ]
  },
  {
   "cell_type": "code",
   "execution_count": 3,
   "metadata": {
    "id": "FgD2aZsrn28I"
   },
   "outputs": [],
   "source": [
    "reader = vtk.vtkXMLImageDataReader()\n",
    "reader.SetFileName('mixture.vti')\n",
    "reader.Update()"
   ]
  },
  {
   "cell_type": "markdown",
   "metadata": {
    "id": "VaMo-yzxn_A9"
   },
   "source": [
    "# Extract data from the VTI file"
   ]
  },
  {
   "cell_type": "code",
   "execution_count": 4,
   "metadata": {
    "id": "qfZ4MDfSoBnZ"
   },
   "outputs": [],
   "source": [
    "image_data = reader.GetOutput()\n",
    "dimensions = image_data.GetDimensions()\n",
    "spacing = image_data.GetSpacing()\n",
    "origin = image_data.GetOrigin()"
   ]
  },
  {
   "cell_type": "markdown",
   "metadata": {
    "id": "KiJ8G-RuoH80"
   },
   "source": [
    "# Convert VTK data to NumPy array"
   ]
  },
  {
   "cell_type": "code",
   "execution_count": 5,
   "metadata": {
    "id": "cBsXivwDoECI"
   },
   "outputs": [],
   "source": [
    "volume = np.array(image_data.GetPointData().GetScalars()).reshape(dimensions, order='F')"
   ]
  },
  {
   "cell_type": "markdown",
   "metadata": {
    "id": "kK0uvz3ooQ4r"
   },
   "source": [
    "# Define initial isovalue"
   ]
  },
  {
   "cell_type": "code",
   "execution_count": 6,
   "metadata": {
    "id": "mbnJbX0poN-D"
   },
   "outputs": [],
   "source": [
    "initial_isovalue = 0.0"
   ]
  },
  {
   "cell_type": "markdown",
   "metadata": {
    "id": "2jiiYoKAoUlO"
   },
   "source": [
    "# Create Isosurface plot"
   ]
  },
  {
   "cell_type": "code",
   "execution_count": 7,
   "metadata": {
    "id": "-OTOHj_WoW1I",
    "scrolled": true
   },
   "outputs": [
    {
     "data": {
      "application/vnd.jupyter.widget-view+json": {
       "model_id": "5b41412b390a46128e1e01549c8a78b4",
       "version_major": 2,
       "version_minor": 0
      },
      "text/plain": [
       "FigureWidget({\n",
       "    'data': [{'cmax': 0.43280163,\n",
       "              'cmin': -0.99355406,\n",
       "              'colorscale': [[0.0, '#0d0887'], [0.1111111111111111, '#46039f'],\n",
       "                             [0.2222222222222222, '#7201a8'], [0.3333333333333333,\n",
       "                             '#9c179e'], [0.4444444444444444, '#bd3786'],\n",
       "                             [0.5555555555555556, '#d8576b'], [0.6666666666666666,\n",
       "                             '#ed7953'], [0.7777777777777778, '#fb9f3a'],\n",
       "                             [0.8888888888888888, '#fdca26'], [1.0, '#f0f921']],\n",
       "              'isomax': 0.0,\n",
       "              'isomin': 0.0,\n",
       "              'showscale': False,\n",
       "              'type': 'isosurface',\n",
       "              'uid': 'c9c971f8-9d66-4255-a203-648aebf03ee1',\n",
       "              'value': array([-0.04087147, -0.02041778, -0.0047331 , ..., -0.9426848 , -0.8584828 ,\n",
       "                              -0.72851294], dtype=float32),\n",
       "              'x': array([7.45000000e-05, 7.45000000e-05, 7.45000000e-05, ..., 1.48999926e+02,\n",
       "                          1.48999926e+02, 1.48999926e+02]),\n",
       "              'y': array([7.45000000e-05, 7.45000000e-05, 7.45000000e-05, ..., 1.48999926e+02,\n",
       "                          1.48999926e+02, 1.48999926e+02]),\n",
       "              'z': array([7.45000000e-05, 2.01358600e+00, 4.02709750e+00, ..., 1.44972903e+02,\n",
       "                          1.46986414e+02, 1.48999926e+02])}],\n",
       "    'layout': {'scene': {'xaxis': {'showticklabels': False, 'tickvals': [], 'title': {'text': 'x'}},\n",
       "                         'yaxis': {'showticklabels': False, 'tickvals': [], 'title': {'text': 'y'}},\n",
       "                         'zaxis': {'showticklabels': False, 'tickvals': [], 'title': {'text': 'z'}}},\n",
       "               'template': '...'}\n",
       "})"
      ]
     },
     "execution_count": 7,
     "metadata": {},
     "output_type": "execute_result"
    }
   ],
   "source": [
    "x=np.linspace(origin[0], origin[0] + spacing[0] * (dimensions[0]-1), dimensions[0]),\n",
    "y=np.linspace(origin[1], origin[1] + spacing[1] * (dimensions[1]-1), dimensions[1]),\n",
    "z=np.linspace(origin[2], origin[2] + spacing[2] * (dimensions[2]-1), dimensions[2]),\n",
    "X, Y, Z = np.meshgrid(x, y, z, indexing='ij')\n",
    "fig_isosurface = go.FigureWidget()\n",
    "isosurface = fig_isosurface.add_trace(go.Isosurface(\n",
    "    x = X.flatten(),\n",
    "    y = Y.flatten(),\n",
    "    z = Z.flatten(),\n",
    "    showscale=False,\n",
    "    value=volume.flatten(), \n",
    "    isomin=initial_isovalue,\n",
    "    isomax=initial_isovalue,\n",
    "    cmin=np.min(volume),\n",
    "    cmax=np.max(volume),\n",
    "    colorscale='plasma'\n",
    "))\n",
    "fig_isosurface.update_layout(\n",
    "    scene=dict(\n",
    "        xaxis=dict(\n",
    "            title='x',\n",
    "            tickvals=[],\n",
    "            showticklabels=False\n",
    "        ),\n",
    "        yaxis=dict(\n",
    "            title='y',\n",
    "            tickvals=[],\n",
    "            showticklabels=False\n",
    "        ),\n",
    "        zaxis=dict(\n",
    "            title='z',\n",
    "            tickvals=[],\n",
    "            showticklabels=False\n",
    "        )\n",
    "    )\n",
    ")"
   ]
  },
  {
   "cell_type": "markdown",
   "metadata": {},
   "source": [
    "# Create Histogram"
   ]
  },
  {
   "cell_type": "code",
   "execution_count": 8,
   "metadata": {
    "colab": {
     "base_uri": "https://localhost:8080/",
     "height": 542
    },
    "id": "lbuMauwA_mqB",
    "outputId": "c880e2f9-75d4-46ca-8775-fdcb31432e76",
    "scrolled": true
   },
   "outputs": [
    {
     "data": {
      "application/vnd.jupyter.widget-view+json": {
       "model_id": "83c294bb6b02410698926d000b625cb5",
       "version_major": 2,
       "version_minor": 0
      },
      "text/plain": [
       "FigureWidget({\n",
       "    'data': [{'marker': {'color': 'blue'},\n",
       "              'name': 'Histogram',\n",
       "              'nbinsx': 30,\n",
       "              'opacity': 0.7,\n",
       "              'type': 'histogram',\n",
       "              'uid': 'a4ca1aee-d45c-43e8-8d2d-64b5bb333ad7',\n",
       "              'x': array([-0.04087147, -0.02041778, -0.0047331 , ..., -0.9426848 , -0.8584828 ,\n",
       "                          -0.72851294], dtype=float32)}],\n",
       "    'layout': {'template': '...',\n",
       "               'xaxis': {'title': {'text': 'Vortex scaler values'}},\n",
       "               'yaxis': {'title': {'text': 'Frequency'}}}\n",
       "})"
      ]
     },
     "execution_count": 8,
     "metadata": {},
     "output_type": "execute_result"
    }
   ],
   "source": [
    "fig_histogram = go.FigureWidget()\n",
    "histogram_data =volume.flatten()\n",
    "histogram = fig_histogram.add_trace(go.Histogram(\n",
    "    x=histogram_data,\n",
    "    marker=dict(color='blue'),\n",
    "    opacity=0.7,\n",
    "    nbinsx=30,\n",
    "    name='Histogram'\n",
    "))\n",
    "fig_histogram.update_layout(\n",
    "    xaxis_title_text='Vortex scaler values',\n",
    "    yaxis_title_text='Frequency'\n",
    ")"
   ]
  },
  {
   "cell_type": "markdown",
   "metadata": {},
   "source": [
    "# Creating slider and buttons and merging all components together"
   ]
  },
  {
   "cell_type": "code",
   "execution_count": 9,
   "metadata": {
    "colab": {
     "base_uri": "https://localhost:8080/",
     "height": 17,
     "referenced_widgets": [
      "8377366a9723462d840579a0f1f3b598",
      "cd19b43f5f8c4887b556714a159fd05b",
      "28aba6c8d8844d8ebd738f3a06bb6c4b",
      "0984a164372145b98b8dea9c6f3ab850",
      "6eabdb6fba324c7f9335cc513daf67af",
      "3f85d42b1c394cf6b0db888d5792e268",
      "031c9117e519455db59d39a9081a4568",
      "e6285fc2d8a749e4a6ff5d05527e9490",
      "26907b31dfe54352a629e38e32d1f095",
      "ed30074a667d456c8745cd02b28ce09c"
     ]
    },
    "id": "lOeoTKnuQolt",
    "outputId": "6ac82f5b-fa16-45e7-e641-bd83524de543",
    "scrolled": true
   },
   "outputs": [
    {
     "data": {
      "application/vnd.jupyter.widget-view+json": {
       "model_id": "3de12168bd734e6bb30d8eaafddfa180",
       "version_major": 2,
       "version_minor": 0
      },
      "text/plain": [
       "VBox(children=(HBox(children=(FloatSlider(value=0.0, continuous_update=False, description='isoval:', layout=La…"
      ]
     },
     "metadata": {},
     "output_type": "display_data"
    }
   ],
   "source": [
    "def func(change):\n",
    "    isosurface.data[0].isomin = change.new\n",
    "    isosurface.data[0].isomax = change.new\n",
    "    isosurface.update_traces()\n",
    "    histogram_data = volume[(volume >= change.new - 0.25) & (volume <= change.new + 0.25)].flatten()\n",
    "    fig_histogram.data[0].x = histogram_data\n",
    "\n",
    "def button_click(reset_button):\n",
    "    isosurface.data[0].isomin = 0.00\n",
    "    isosurface.data[0].isomax = 0.00\n",
    "    slider.value=0.00\n",
    "    isosurface.update_traces()\n",
    "    histogram_data = volume.flatten()\n",
    "    fig_histogram.data[0].x = histogram_data\n",
    "    \n",
    "slider = widgets.FloatSlider(value=initial_isovalue, min=np.min(volume), max=np.max(volume), step=0.01, description=\"isoval:\",continuous_update=False,layout=widgets.Layout(width='50%'))\n",
    "\n",
    "# gui = widgets.interactive_output(func, {'isovalue':slider})\n",
    "slider.observe(func, 'value')\n",
    "reset_button = widgets.Button(description='Reset')\n",
    "reset_button.on_click(button_click)\n",
    "x = widgets.VBox([widgets.HBox([slider,reset_button]), widgets.HBox([fig_isosurface,fig_histogram])])\n",
    "button_click(None)\n",
    "display(x)"
   ]
  },
  {
   "cell_type": "code",
   "execution_count": null,
   "metadata": {},
   "outputs": [],
   "source": []
  }
 ],
 "metadata": {
  "colab": {
   "provenance": []
  },
  "kernelspec": {
   "display_name": "Python 3",
   "language": "python",
   "name": "python3"
  },
  "language_info": {
   "codemirror_mode": {
    "name": "ipython",
    "version": 3
   },
   "file_extension": ".py",
   "mimetype": "text/x-python",
   "name": "python",
   "nbconvert_exporter": "python",
   "pygments_lexer": "ipython3",
   "version": "3.8.8"
  },
  "widgets": {
   "application/vnd.jupyter.widget-state+json": {
    "031c9117e519455db59d39a9081a4568": {
     "model_module": "jupyterlab-plotly",
     "model_module_version": "^5.15.0",
     "model_name": "FigureModel",
     "state": {
      "_config": {
       "plotlyServerURL": "https://plot.ly"
      },
      "_data": [],
      "_dom_classes": [],
      "_js2py_layoutDelta": {},
      "_js2py_pointsCallback": {},
      "_js2py_relayout": {},
      "_js2py_restyle": {},
      "_js2py_traceDeltas": {},
      "_js2py_update": {},
      "_last_layout_edit_id": 5,
      "_last_trace_edit_id": 5,
      "_layout": {},
      "_model_module": "jupyterlab-plotly",
      "_model_module_version": "^5.15.0",
      "_model_name": "FigureModel",
      "_py2js_addTraces": null,
      "_py2js_animate": {},
      "_py2js_deleteTraces": {},
      "_py2js_moveTraces": {},
      "_py2js_relayout": null,
      "_py2js_removeLayoutProps": {},
      "_py2js_removeTraceProps": {},
      "_py2js_restyle": null,
      "_py2js_update": {},
      "_view_count": 0,
      "_view_module": "jupyterlab-plotly",
      "_view_module_version": "^5.15.0",
      "_view_name": "FigureView"
     }
    },
    "0428a0fdd9df4f05ae93602202f3b47a": {
     "model_module": "@jupyter-widgets/base",
     "model_module_version": "1.2.0",
     "model_name": "LayoutModel",
     "state": {
      "_model_module": "@jupyter-widgets/base",
      "_model_module_version": "1.2.0",
      "_model_name": "LayoutModel",
      "_view_count": null,
      "_view_module": "@jupyter-widgets/base",
      "_view_module_version": "1.2.0",
      "_view_name": "LayoutView",
      "align_content": null,
      "align_items": null,
      "align_self": null,
      "border": null,
      "bottom": null,
      "display": null,
      "flex": null,
      "flex_flow": null,
      "grid_area": null,
      "grid_auto_columns": null,
      "grid_auto_flow": null,
      "grid_auto_rows": null,
      "grid_column": null,
      "grid_gap": null,
      "grid_row": null,
      "grid_template_areas": null,
      "grid_template_columns": null,
      "grid_template_rows": null,
      "height": null,
      "justify_content": null,
      "justify_items": null,
      "left": null,
      "margin": null,
      "max_height": null,
      "max_width": null,
      "min_height": null,
      "min_width": null,
      "object_fit": null,
      "object_position": null,
      "order": null,
      "overflow": null,
      "overflow_x": null,
      "overflow_y": null,
      "padding": null,
      "right": null,
      "top": null,
      "visibility": null,
      "width": null
     }
    },
    "0984a164372145b98b8dea9c6f3ab850": {
     "model_module": "@jupyter-widgets/base",
     "model_module_version": "1.2.0",
     "model_name": "LayoutModel",
     "state": {
      "_model_module": "@jupyter-widgets/base",
      "_model_module_version": "1.2.0",
      "_model_name": "LayoutModel",
      "_view_count": null,
      "_view_module": "@jupyter-widgets/base",
      "_view_module_version": "1.2.0",
      "_view_name": "LayoutView",
      "align_content": null,
      "align_items": null,
      "align_self": null,
      "border": null,
      "bottom": null,
      "display": null,
      "flex": null,
      "flex_flow": null,
      "grid_area": null,
      "grid_auto_columns": null,
      "grid_auto_flow": null,
      "grid_auto_rows": null,
      "grid_column": null,
      "grid_gap": null,
      "grid_row": null,
      "grid_template_areas": null,
      "grid_template_columns": null,
      "grid_template_rows": null,
      "height": null,
      "justify_content": null,
      "justify_items": null,
      "left": null,
      "margin": null,
      "max_height": null,
      "max_width": null,
      "min_height": null,
      "min_width": null,
      "object_fit": null,
      "object_position": null,
      "order": null,
      "overflow": null,
      "overflow_x": null,
      "overflow_y": null,
      "padding": null,
      "right": null,
      "top": null,
      "visibility": null,
      "width": null
     }
    },
    "22db946a12234441bdef581aa972c6b1": {
     "model_module": "@jupyter-widgets/base",
     "model_module_version": "1.2.0",
     "model_name": "LayoutModel",
     "state": {
      "_model_module": "@jupyter-widgets/base",
      "_model_module_version": "1.2.0",
      "_model_name": "LayoutModel",
      "_view_count": null,
      "_view_module": "@jupyter-widgets/base",
      "_view_module_version": "1.2.0",
      "_view_name": "LayoutView",
      "align_content": null,
      "align_items": null,
      "align_self": null,
      "border": null,
      "bottom": null,
      "display": null,
      "flex": null,
      "flex_flow": null,
      "grid_area": null,
      "grid_auto_columns": null,
      "grid_auto_flow": null,
      "grid_auto_rows": null,
      "grid_column": null,
      "grid_gap": null,
      "grid_row": null,
      "grid_template_areas": null,
      "grid_template_columns": null,
      "grid_template_rows": null,
      "height": null,
      "justify_content": null,
      "justify_items": null,
      "left": null,
      "margin": null,
      "max_height": null,
      "max_width": null,
      "min_height": null,
      "min_width": null,
      "object_fit": null,
      "object_position": null,
      "order": null,
      "overflow": null,
      "overflow_x": null,
      "overflow_y": null,
      "padding": null,
      "right": null,
      "top": null,
      "visibility": null,
      "width": null
     }
    },
    "26907b31dfe54352a629e38e32d1f095": {
     "model_module": "@jupyter-widgets/base",
     "model_module_version": "1.2.0",
     "model_name": "LayoutModel",
     "state": {
      "_model_module": "@jupyter-widgets/base",
      "_model_module_version": "1.2.0",
      "_model_name": "LayoutModel",
      "_view_count": null,
      "_view_module": "@jupyter-widgets/base",
      "_view_module_version": "1.2.0",
      "_view_name": "LayoutView",
      "align_content": null,
      "align_items": null,
      "align_self": null,
      "border": null,
      "bottom": null,
      "display": null,
      "flex": null,
      "flex_flow": null,
      "grid_area": null,
      "grid_auto_columns": null,
      "grid_auto_flow": null,
      "grid_auto_rows": null,
      "grid_column": null,
      "grid_gap": null,
      "grid_row": null,
      "grid_template_areas": null,
      "grid_template_columns": null,
      "grid_template_rows": null,
      "height": null,
      "justify_content": null,
      "justify_items": null,
      "left": null,
      "margin": null,
      "max_height": null,
      "max_width": null,
      "min_height": null,
      "min_width": null,
      "object_fit": null,
      "object_position": null,
      "order": null,
      "overflow": null,
      "overflow_x": null,
      "overflow_y": null,
      "padding": null,
      "right": null,
      "top": null,
      "visibility": null,
      "width": null
     }
    },
    "28aba6c8d8844d8ebd738f3a06bb6c4b": {
     "model_module": "@jupyter-widgets/controls",
     "model_module_version": "1.5.0",
     "model_name": "HBoxModel",
     "state": {
      "_dom_classes": [],
      "_model_module": "@jupyter-widgets/controls",
      "_model_module_version": "1.5.0",
      "_model_name": "HBoxModel",
      "_view_count": null,
      "_view_module": "@jupyter-widgets/controls",
      "_view_module_version": "1.5.0",
      "_view_name": "HBoxView",
      "box_style": "",
      "children": [
       "IPY_MODEL_031c9117e519455db59d39a9081a4568"
      ],
      "layout": "IPY_MODEL_e6285fc2d8a749e4a6ff5d05527e9490"
     }
    },
    "37f2254772f24310865bc28fe1449930": {
     "model_module": "@jupyter-widgets/output",
     "model_module_version": "1.0.0",
     "model_name": "OutputModel",
     "state": {
      "_dom_classes": [],
      "_model_module": "@jupyter-widgets/output",
      "_model_module_version": "1.0.0",
      "_model_name": "OutputModel",
      "_view_count": null,
      "_view_module": "@jupyter-widgets/output",
      "_view_module_version": "1.0.0",
      "_view_name": "OutputView",
      "layout": "IPY_MODEL_22db946a12234441bdef581aa972c6b1",
      "msg_id": "",
      "outputs": []
     }
    },
    "3f85d42b1c394cf6b0db888d5792e268": {
     "model_module": "@jupyter-widgets/base",
     "model_module_version": "1.2.0",
     "model_name": "LayoutModel",
     "state": {
      "_model_module": "@jupyter-widgets/base",
      "_model_module_version": "1.2.0",
      "_model_name": "LayoutModel",
      "_view_count": null,
      "_view_module": "@jupyter-widgets/base",
      "_view_module_version": "1.2.0",
      "_view_name": "LayoutView",
      "align_content": null,
      "align_items": null,
      "align_self": null,
      "border": null,
      "bottom": null,
      "display": null,
      "flex": null,
      "flex_flow": null,
      "grid_area": null,
      "grid_auto_columns": null,
      "grid_auto_flow": null,
      "grid_auto_rows": null,
      "grid_column": null,
      "grid_gap": null,
      "grid_row": null,
      "grid_template_areas": null,
      "grid_template_columns": null,
      "grid_template_rows": null,
      "height": null,
      "justify_content": null,
      "justify_items": null,
      "left": null,
      "margin": null,
      "max_height": null,
      "max_width": null,
      "min_height": null,
      "min_width": null,
      "object_fit": null,
      "object_position": null,
      "order": null,
      "overflow": null,
      "overflow_x": null,
      "overflow_y": null,
      "padding": null,
      "right": null,
      "top": null,
      "visibility": null,
      "width": null
     }
    },
    "4102bd440798450c8549801a910162bf": {
     "model_module": "@jupyter-widgets/base",
     "model_module_version": "1.2.0",
     "model_name": "LayoutModel",
     "state": {
      "_model_module": "@jupyter-widgets/base",
      "_model_module_version": "1.2.0",
      "_model_name": "LayoutModel",
      "_view_count": null,
      "_view_module": "@jupyter-widgets/base",
      "_view_module_version": "1.2.0",
      "_view_name": "LayoutView",
      "align_content": null,
      "align_items": null,
      "align_self": null,
      "border": null,
      "bottom": null,
      "display": null,
      "flex": null,
      "flex_flow": null,
      "grid_area": null,
      "grid_auto_columns": null,
      "grid_auto_flow": null,
      "grid_auto_rows": null,
      "grid_column": null,
      "grid_gap": null,
      "grid_row": null,
      "grid_template_areas": null,
      "grid_template_columns": null,
      "grid_template_rows": null,
      "height": null,
      "justify_content": null,
      "justify_items": null,
      "left": null,
      "margin": null,
      "max_height": null,
      "max_width": null,
      "min_height": null,
      "min_width": null,
      "object_fit": null,
      "object_position": null,
      "order": null,
      "overflow": null,
      "overflow_x": null,
      "overflow_y": null,
      "padding": null,
      "right": null,
      "top": null,
      "visibility": null,
      "width": null
     }
    },
    "5de83d7bc65b43e7955ea63dcbe0c8aa": {
     "model_module": "@jupyter-widgets/controls",
     "model_module_version": "1.5.0",
     "model_name": "HBoxModel",
     "state": {
      "_dom_classes": [],
      "_model_module": "@jupyter-widgets/controls",
      "_model_module_version": "1.5.0",
      "_model_name": "HBoxModel",
      "_view_count": null,
      "_view_module": "@jupyter-widgets/controls",
      "_view_module_version": "1.5.0",
      "_view_name": "HBoxView",
      "box_style": "",
      "children": [
       "IPY_MODEL_69dedc11f39240de9d817f5b79073291",
       "IPY_MODEL_ed474c3ec3f1465d806747a18523bcb2"
      ],
      "layout": "IPY_MODEL_0428a0fdd9df4f05ae93602202f3b47a"
     }
    },
    "69dedc11f39240de9d817f5b79073291": {
     "model_module": "jupyterlab-plotly",
     "model_module_version": "^5.15.0",
     "model_name": "FigureModel",
     "state": {
      "_config": {
       "plotlyServerURL": "https://plot.ly"
      },
      "_data": [],
      "_dom_classes": [],
      "_js2py_layoutDelta": {},
      "_js2py_pointsCallback": {},
      "_js2py_relayout": {},
      "_js2py_restyle": {},
      "_js2py_traceDeltas": {},
      "_js2py_update": {},
      "_last_layout_edit_id": 1,
      "_last_trace_edit_id": 1,
      "_layout": {},
      "_model_module": "jupyterlab-plotly",
      "_model_module_version": "^5.15.0",
      "_model_name": "FigureModel",
      "_py2js_addTraces": null,
      "_py2js_animate": {},
      "_py2js_deleteTraces": {},
      "_py2js_moveTraces": {},
      "_py2js_relayout": null,
      "_py2js_removeLayoutProps": {},
      "_py2js_removeTraceProps": {},
      "_py2js_restyle": {},
      "_py2js_update": {},
      "_view_count": 0,
      "_view_module": "jupyterlab-plotly",
      "_view_module_version": "^5.15.0",
      "_view_name": "FigureView"
     }
    },
    "6eabdb6fba324c7f9335cc513daf67af": {
     "model_module": "@jupyter-widgets/controls",
     "model_module_version": "1.5.0",
     "model_name": "FloatSliderModel",
     "state": {
      "_dom_classes": [],
      "_model_module": "@jupyter-widgets/controls",
      "_model_module_version": "1.5.0",
      "_model_name": "FloatSliderModel",
      "_view_count": null,
      "_view_module": "@jupyter-widgets/controls",
      "_view_module_version": "1.5.0",
      "_view_name": "FloatSliderView",
      "continuous_update": true,
      "description": "isovalue",
      "description_tooltip": null,
      "disabled": false,
      "layout": "IPY_MODEL_26907b31dfe54352a629e38e32d1f095",
      "max": 0.43280163407325745,
      "min": -0.9935540556907654,
      "orientation": "horizontal",
      "readout": true,
      "readout_format": ".2f",
      "step": 0.25,
      "style": "IPY_MODEL_ed30074a667d456c8745cd02b28ce09c",
      "value": 0
     }
    },
    "7d7dc955fc7240539e75f5c7f15388dd": {
     "model_module": "@jupyter-widgets/controls",
     "model_module_version": "1.5.0",
     "model_name": "SliderStyleModel",
     "state": {
      "_model_module": "@jupyter-widgets/controls",
      "_model_module_version": "1.5.0",
      "_model_name": "SliderStyleModel",
      "_view_count": null,
      "_view_module": "@jupyter-widgets/base",
      "_view_module_version": "1.2.0",
      "_view_name": "StyleView",
      "description_width": "",
      "handle_color": null
     }
    },
    "8377366a9723462d840579a0f1f3b598": {
     "model_module": "@jupyter-widgets/controls",
     "model_module_version": "1.5.0",
     "model_name": "VBoxModel",
     "state": {
      "_dom_classes": [],
      "_model_module": "@jupyter-widgets/controls",
      "_model_module_version": "1.5.0",
      "_model_name": "VBoxModel",
      "_view_count": null,
      "_view_module": "@jupyter-widgets/controls",
      "_view_module_version": "1.5.0",
      "_view_name": "VBoxView",
      "box_style": "",
      "children": [
       "IPY_MODEL_cd19b43f5f8c4887b556714a159fd05b",
       "IPY_MODEL_28aba6c8d8844d8ebd738f3a06bb6c4b"
      ],
      "layout": "IPY_MODEL_0984a164372145b98b8dea9c6f3ab850"
     }
    },
    "b6c8c7a0a81e469b8a788ac923611ef0": {
     "model_module": "@jupyter-widgets/controls",
     "model_module_version": "1.5.0",
     "model_name": "VBoxModel",
     "state": {
      "_dom_classes": [
       "widget-interact"
      ],
      "_model_module": "@jupyter-widgets/controls",
      "_model_module_version": "1.5.0",
      "_model_name": "VBoxModel",
      "_view_count": null,
      "_view_module": "@jupyter-widgets/controls",
      "_view_module_version": "1.5.0",
      "_view_name": "VBoxView",
      "box_style": "",
      "children": [
       "IPY_MODEL_de22be6fd94e4cbcb22de0a7a1916af6",
       "IPY_MODEL_37f2254772f24310865bc28fe1449930"
      ],
      "layout": "IPY_MODEL_ed604b8f090b463989e03ac0978964c0"
     }
    },
    "cd19b43f5f8c4887b556714a159fd05b": {
     "model_module": "@jupyter-widgets/controls",
     "model_module_version": "1.5.0",
     "model_name": "HBoxModel",
     "state": {
      "_dom_classes": [],
      "_model_module": "@jupyter-widgets/controls",
      "_model_module_version": "1.5.0",
      "_model_name": "HBoxModel",
      "_view_count": null,
      "_view_module": "@jupyter-widgets/controls",
      "_view_module_version": "1.5.0",
      "_view_name": "HBoxView",
      "box_style": "",
      "children": [
       "IPY_MODEL_6eabdb6fba324c7f9335cc513daf67af"
      ],
      "layout": "IPY_MODEL_3f85d42b1c394cf6b0db888d5792e268"
     }
    },
    "de22be6fd94e4cbcb22de0a7a1916af6": {
     "model_module": "@jupyter-widgets/controls",
     "model_module_version": "1.5.0",
     "model_name": "FloatSliderModel",
     "state": {
      "_dom_classes": [],
      "_model_module": "@jupyter-widgets/controls",
      "_model_module_version": "1.5.0",
      "_model_name": "FloatSliderModel",
      "_view_count": null,
      "_view_module": "@jupyter-widgets/controls",
      "_view_module_version": "1.5.0",
      "_view_name": "FloatSliderView",
      "continuous_update": false,
      "description": "Isovalue:",
      "description_tooltip": null,
      "disabled": false,
      "layout": "IPY_MODEL_4102bd440798450c8549801a910162bf",
      "max": 1,
      "min": 0,
      "orientation": "horizontal",
      "readout": true,
      "readout_format": ".2f",
      "step": 0.01,
      "style": "IPY_MODEL_7d7dc955fc7240539e75f5c7f15388dd",
      "value": 0
     }
    },
    "e6285fc2d8a749e4a6ff5d05527e9490": {
     "model_module": "@jupyter-widgets/base",
     "model_module_version": "1.2.0",
     "model_name": "LayoutModel",
     "state": {
      "_model_module": "@jupyter-widgets/base",
      "_model_module_version": "1.2.0",
      "_model_name": "LayoutModel",
      "_view_count": null,
      "_view_module": "@jupyter-widgets/base",
      "_view_module_version": "1.2.0",
      "_view_name": "LayoutView",
      "align_content": null,
      "align_items": null,
      "align_self": null,
      "border": null,
      "bottom": null,
      "display": null,
      "flex": null,
      "flex_flow": null,
      "grid_area": null,
      "grid_auto_columns": null,
      "grid_auto_flow": null,
      "grid_auto_rows": null,
      "grid_column": null,
      "grid_gap": null,
      "grid_row": null,
      "grid_template_areas": null,
      "grid_template_columns": null,
      "grid_template_rows": null,
      "height": null,
      "justify_content": null,
      "justify_items": null,
      "left": null,
      "margin": null,
      "max_height": null,
      "max_width": null,
      "min_height": null,
      "min_width": null,
      "object_fit": null,
      "object_position": null,
      "order": null,
      "overflow": null,
      "overflow_x": null,
      "overflow_y": null,
      "padding": null,
      "right": null,
      "top": null,
      "visibility": null,
      "width": null
     }
    },
    "ed30074a667d456c8745cd02b28ce09c": {
     "model_module": "@jupyter-widgets/controls",
     "model_module_version": "1.5.0",
     "model_name": "SliderStyleModel",
     "state": {
      "_model_module": "@jupyter-widgets/controls",
      "_model_module_version": "1.5.0",
      "_model_name": "SliderStyleModel",
      "_view_count": null,
      "_view_module": "@jupyter-widgets/base",
      "_view_module_version": "1.2.0",
      "_view_name": "StyleView",
      "description_width": "",
      "handle_color": null
     }
    },
    "ed474c3ec3f1465d806747a18523bcb2": {
     "model_module": "jupyterlab-plotly",
     "model_module_version": "^5.15.0",
     "model_name": "FigureModel",
     "state": {
      "_config": {
       "plotlyServerURL": "https://plot.ly"
      },
      "_data": [],
      "_dom_classes": [],
      "_js2py_layoutDelta": {},
      "_js2py_pointsCallback": {},
      "_js2py_relayout": {},
      "_js2py_restyle": {},
      "_js2py_traceDeltas": {},
      "_js2py_update": {},
      "_last_layout_edit_id": 1,
      "_last_trace_edit_id": 1,
      "_layout": {},
      "_model_module": "jupyterlab-plotly",
      "_model_module_version": "^5.15.0",
      "_model_name": "FigureModel",
      "_py2js_addTraces": null,
      "_py2js_animate": {},
      "_py2js_deleteTraces": {},
      "_py2js_moveTraces": {},
      "_py2js_relayout": null,
      "_py2js_removeLayoutProps": {},
      "_py2js_removeTraceProps": {},
      "_py2js_restyle": {},
      "_py2js_update": {},
      "_view_count": 0,
      "_view_module": "jupyterlab-plotly",
      "_view_module_version": "^5.15.0",
      "_view_name": "FigureView"
     }
    },
    "ed604b8f090b463989e03ac0978964c0": {
     "model_module": "@jupyter-widgets/base",
     "model_module_version": "1.2.0",
     "model_name": "LayoutModel",
     "state": {
      "_model_module": "@jupyter-widgets/base",
      "_model_module_version": "1.2.0",
      "_model_name": "LayoutModel",
      "_view_count": null,
      "_view_module": "@jupyter-widgets/base",
      "_view_module_version": "1.2.0",
      "_view_name": "LayoutView",
      "align_content": null,
      "align_items": null,
      "align_self": null,
      "border": null,
      "bottom": null,
      "display": null,
      "flex": null,
      "flex_flow": null,
      "grid_area": null,
      "grid_auto_columns": null,
      "grid_auto_flow": null,
      "grid_auto_rows": null,
      "grid_column": null,
      "grid_gap": null,
      "grid_row": null,
      "grid_template_areas": null,
      "grid_template_columns": null,
      "grid_template_rows": null,
      "height": null,
      "justify_content": null,
      "justify_items": null,
      "left": null,
      "margin": null,
      "max_height": null,
      "max_width": null,
      "min_height": null,
      "min_width": null,
      "object_fit": null,
      "object_position": null,
      "order": null,
      "overflow": null,
      "overflow_x": null,
      "overflow_y": null,
      "padding": null,
      "right": null,
      "top": null,
      "visibility": null,
      "width": null
     }
    }
   }
  }
 },
 "nbformat": 4,
 "nbformat_minor": 4
}
